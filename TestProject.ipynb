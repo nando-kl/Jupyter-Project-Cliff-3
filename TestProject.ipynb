{
 "cells": [
  {
   "cell_type": "code",
   "execution_count": 13,
   "id": "96787fcc-a507-45a5-9329-a04687049cb4",
   "metadata": {},
   "outputs": [],
   "source": [
    "import numpy as np\n",
    "import matplotlib.pyplot as plt\n",
    "import xarray as xr"
   ]
  },
  {
   "cell_type": "code",
   "execution_count": 15,
   "id": "44f12327-492d-4705-bd8b-61ca644400ad",
   "metadata": {},
   "outputs": [],
   "source": [
    "# Opdracht 1\n",
    "# Zie papier"
   ]
  },
  {
   "cell_type": "code",
   "execution_count": 55,
   "id": "ab8c5c06-79b1-451e-854a-fb8cc78c5906",
   "metadata": {},
   "outputs": [
    {
     "name": "stdout",
     "output_type": "stream",
     "text": [
      "tau_crit = 115077.16645888718 N/m^2\n",
      "tau_mob = 20556.43963253842 N/m^2\n",
      "SF = 5.598107868676519\n"
     ]
    }
   ],
   "source": [
    "# Opdracht 2\n",
    "\n",
    "# Gegevens\n",
    "c = 100000  # Cohesie in N/m^2 \n",
    "rho_r = 2039  # Dichtheid in kg/m^3\n",
    "H = 45  # Hoogte in meter\n",
    "OR_x = 12.06  # Horizontale afstand van O naar R in meter\n",
    "OP_x = 24.51  # Horizontale afstand van O naar P in meter \n",
    "OP_y = 35  # Verticale afstand van O naar P in meter\n",
    "\n",
    "# Berekenen wrijvingshoek en hellingshoek\n",
    "phi = np.arctan(OP_y/OP_x)  # Wrijvingshoek in graden\n",
    "theta = np.arctan(H/OR_x)  # Hellingshoek in graden\n",
    "\n",
    "# Omrekenen naar radialen\n",
    "phi_rad = np.radians(phi)\n",
    "theta_rad = np.radians(theta)\n",
    "\n",
    "# Berekening van normale spanning\n",
    "U = rho_r * 9.81 * H * np.cos(theta_rad)\n",
    "sigma = U\n",
    "\n",
    "# Berkening van mu_s\n",
    "mu_s = np.tan(phi_rad)\n",
    "\n",
    "# Kritieke schuifkracht\n",
    "tau_crit = c + sigma * mu_s\n",
    "\n",
    "# Mobiliseerde schuifkracht\n",
    "tau_mob = sigma * np.sin(theta_rad)   #??\n",
    "\n",
    "# Stabiliteitsfactor\n",
    "SF = tau_crit / tau_mob\n",
    "\n",
    "# Resultaten printen\n",
    "print('tau_crit =', tau_crit, 'N/m^2')\n",
    "print('tau_mob =', tau_mob, 'N/m^2')\n",
    "print('SF =', SF)\n"
   ]
  },
  {
   "cell_type": "code",
   "execution_count": null,
   "id": "d5b89c35-ee6b-400c-b94f-0f8d320f63ea",
   "metadata": {},
   "outputs": [],
   "source": []
  },
  {
   "cell_type": "code",
   "execution_count": null,
   "id": "7c1e4a54-f41c-4b56-8c8e-09e1706ea193",
   "metadata": {},
   "outputs": [],
   "source": []
  },
  {
   "cell_type": "code",
   "execution_count": null,
   "id": "a8d6c36b-58dd-45b4-a6d1-e9612b998d5b",
   "metadata": {},
   "outputs": [],
   "source": []
  },
  {
   "cell_type": "code",
   "execution_count": null,
   "id": "e19f8295-062b-4d63-acde-f5f211b3ae58",
   "metadata": {},
   "outputs": [],
   "source": []
  }
 ],
 "metadata": {
  "kernelspec": {
   "display_name": "Python [conda env:base] *",
   "language": "python",
   "name": "conda-base-py"
  },
  "language_info": {
   "codemirror_mode": {
    "name": "ipython",
    "version": 3
   },
   "file_extension": ".py",
   "mimetype": "text/x-python",
   "name": "python",
   "nbconvert_exporter": "python",
   "pygments_lexer": "ipython3",
   "version": "3.12.7"
  }
 },
 "nbformat": 4,
 "nbformat_minor": 5
}
